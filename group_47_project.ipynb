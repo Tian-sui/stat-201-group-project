{
 "cells": [
  {
   "cell_type": "code",
   "execution_count": 1,
   "id": "5b6490a2-31e4-4dbe-a180-3da3fcbc0106",
   "metadata": {
    "tags": [],
    "vscode": {
     "languageId": "r"
    }
   },
   "outputs": [
    {
     "name": "stderr",
     "output_type": "stream",
     "text": [
      "Installing package into ‘/home/jupyter/R/x86_64-pc-linux-gnu-library/4.2’\n",
      "(as ‘lib’ is unspecified)\n",
      "\n",
      "Installing package into ‘/home/jupyter/R/x86_64-pc-linux-gnu-library/4.2’\n",
      "(as ‘lib’ is unspecified)\n",
      "\n",
      "Warning message in system(\"timedatectl\", intern = TRUE):\n",
      "“running command 'timedatectl' had status 1”\n",
      "── \u001b[1mAttaching core tidyverse packages\u001b[22m ──────────────────────── tidyverse 2.0.0 ──\n",
      "\u001b[32m✔\u001b[39m \u001b[34mdplyr    \u001b[39m 1.1.0     \u001b[32m✔\u001b[39m \u001b[34mreadr    \u001b[39m 2.1.4\n",
      "\u001b[32m✔\u001b[39m \u001b[34mforcats  \u001b[39m 1.0.0     \u001b[32m✔\u001b[39m \u001b[34mstringr  \u001b[39m 1.5.0\n",
      "\u001b[32m✔\u001b[39m \u001b[34mggplot2  \u001b[39m 3.4.1     \u001b[32m✔\u001b[39m \u001b[34mtibble   \u001b[39m 3.2.1\n",
      "\u001b[32m✔\u001b[39m \u001b[34mlubridate\u001b[39m 1.9.2     \u001b[32m✔\u001b[39m \u001b[34mtidyr    \u001b[39m 1.3.0\n",
      "\u001b[32m✔\u001b[39m \u001b[34mpurrr    \u001b[39m 1.0.1     \n",
      "── \u001b[1mConflicts\u001b[22m ────────────────────────────────────────── tidyverse_conflicts() ──\n",
      "\u001b[31m✖\u001b[39m \u001b[34mdplyr\u001b[39m::\u001b[32mfilter()\u001b[39m masks \u001b[34mstats\u001b[39m::filter()\n",
      "\u001b[31m✖\u001b[39m \u001b[34mdplyr\u001b[39m::\u001b[32mlag()\u001b[39m    masks \u001b[34mstats\u001b[39m::lag()\n",
      "\u001b[36mℹ\u001b[39m Use the conflicted package (\u001b[3m\u001b[34m<http://conflicted.r-lib.org/>\u001b[39m\u001b[23m) to force all conflicts to become errors\n"
     ]
    }
   ],
   "source": [
    "#Load packages\n",
    "install.packages(\"hoopR\")\n",
    "install.packages(\"moderndive\")\n",
    "library(hoopR)\n",
    "library(moderndive)\n",
    "library(tidyverse)"
   ]
  },
  {
   "cell_type": "markdown",
   "id": "1cea8224-93db-4a37-9dc7-b8d459d12c02",
   "metadata": {
    "tags": []
   },
   "source": [
    "# Introduction\n",
    "Project By: James Donham, Jack Siemens, Leo Wang, Tiansui Wu\n",
    "\n",
    "There is the common phrase in sports \"home team advantage\", but is this advantage statistically significant? In this project we will attempt to answer this question with hypothesis testing over a sample of NBA basketball games. \n",
    "\n",
    "## Background Information\n",
    "\n",
    "In the NBA, there has always been a notion that teams at their home court play better and have a higher chance of winning. Speculation suggests that some possible causes of why teams play better at home include the positive cheering of the crowd, referee bias for the home team, and a placebo effect on the players who simply play better because they believe that playing at home gives them an advantage. It has been shown that between 1998 and 2008, the home team has a win percentage of 60.6% in the regular season and 64.9% in the playoffs (Belhumeur, 2017). \n",
    "\n",
    "During the NBA playoffs, the top 8 teams in each conference, ranked by win percentage, get to compete in the playoffs for a chance a the coveted NBA Championship. The playoffs are played in best out of seven series. The team with higher seeding in the regular season gets \"home court advantage\" for each series, meaning that 4 out of the seven games will be played at the higher seed's home court (Green, 2023). Throughout the NBA regular season, 30 teams battle in 82 games each to compete for playoff spots and and higher seeding for home court advantage in their playoff series' to gain as much advantage as possible. Without the incentive of home court advantage, games would likely be much less competitive between the top teams in the league who are already guaranteed playoff spots, making some of the best matchups during the regular season less entertaining for the fans. \n",
    "### Inferential Research Question\n",
    "\n",
    "We are studying the population of all NBA basketball games. The data we are using will be from a package called hoopR. This package has numerous data over a wide range of NBA games. We are selecting a sample from a population of games from 2009 to 2022, the most recent data the package has.\n",
    "\n",
    "Our point estimate is a sample mean of a statistic we will call home margin, which is the difference in score between the team playing at home versus the team playing away from home. We then take a sample and calculate our point estimate as the mean of this home margin.\n",
    "\n",
    "### Hypothesis\n",
    "\n",
    "We will assume a null hypothesis of neither team having an advantage (H0: x_bar = 0), with an alternative hypothesis that being the home team does have an advatage (HA: x_bar > 0), where x is our test statistic. "
   ]
  },
  {
   "cell_type": "markdown",
   "id": "348c12df-e2e2-48a6-bf87-e395f1d41c77",
   "metadata": {},
   "source": [
    "# Preliminary Results\n",
    "\n",
    "The following is the code to compute the home team advantage mean statistic, which is our initial estimate. We will also visualize our sample distribution. "
   ]
  },
  {
   "cell_type": "code",
   "execution_count": 2,
   "id": "7265db68-409e-42c9-8847-4564e80ca40d",
   "metadata": {
    "tags": [],
    "vscode": {
     "languageId": "r"
    }
   },
   "outputs": [
    {
     "data": {
      "text/html": [
       "<table class=\"dataframe\">\n",
       "<caption>A hoopR_data: 6 × 67</caption>\n",
       "<thead>\n",
       "\t<tr><th scope=col>id</th><th scope=col>uid</th><th scope=col>date</th><th scope=col>attendance</th><th scope=col>time_valid</th><th scope=col>neutral_site</th><th scope=col>conference_competition</th><th scope=col>recent</th><th scope=col>start_date</th><th scope=col>notes_type</th><th scope=col>⋯</th><th scope=col>game_id</th><th scope=col>season</th><th scope=col>season_type</th><th scope=col>PBP</th><th scope=col>team_box</th><th scope=col>player_box</th><th scope=col>game_date_time</th><th scope=col>game_date</th><th scope=col>home_venue_id</th><th scope=col>away_venue_id</th></tr>\n",
       "\t<tr><th scope=col>&lt;int&gt;</th><th scope=col>&lt;chr&gt;</th><th scope=col>&lt;chr&gt;</th><th scope=col>&lt;int&gt;</th><th scope=col>&lt;lgl&gt;</th><th scope=col>&lt;lgl&gt;</th><th scope=col>&lt;lgl&gt;</th><th scope=col>&lt;lgl&gt;</th><th scope=col>&lt;chr&gt;</th><th scope=col>&lt;chr&gt;</th><th scope=col>⋯</th><th scope=col>&lt;int&gt;</th><th scope=col>&lt;int&gt;</th><th scope=col>&lt;int&gt;</th><th scope=col>&lt;lgl&gt;</th><th scope=col>&lt;lgl&gt;</th><th scope=col>&lt;lgl&gt;</th><th scope=col>&lt;dttm&gt;</th><th scope=col>&lt;date&gt;</th><th scope=col>&lt;int&gt;</th><th scope=col>&lt;int&gt;</th></tr>\n",
       "</thead>\n",
       "<tbody>\n",
       "\t<tr><td>290614019</td><td>s:40~l:46~e:290614019~c:290614019</td><td>2009-06-15T00:00Z</td><td>0</td><td>TRUE</td><td>FALSE</td><td>FALSE</td><td>FALSE</td><td>2009-06-15T00:00Z</td><td>event</td><td>⋯</td><td>290614019</td><td>2009</td><td>3</td><td> TRUE</td><td>TRUE</td><td>TRUE</td><td>2009-06-14 20:00:00</td><td>2009-06-14</td><td>NA</td><td>NA</td></tr>\n",
       "\t<tr><td>290611019</td><td>s:40~l:46~e:290611019~c:290611019</td><td>2009-06-12T01:00Z</td><td>0</td><td>TRUE</td><td>FALSE</td><td>FALSE</td><td>FALSE</td><td>2009-06-12T01:00Z</td><td>event</td><td>⋯</td><td>290611019</td><td>2009</td><td>3</td><td> TRUE</td><td>TRUE</td><td>TRUE</td><td>2009-06-11 21:00:00</td><td>2009-06-11</td><td>NA</td><td>NA</td></tr>\n",
       "\t<tr><td>290609019</td><td>s:40~l:46~e:290609019~c:290609019</td><td>2009-06-10T01:00Z</td><td>0</td><td>TRUE</td><td>FALSE</td><td>FALSE</td><td>FALSE</td><td>2009-06-10T01:00Z</td><td>event</td><td>⋯</td><td>290609019</td><td>2009</td><td>3</td><td>FALSE</td><td>TRUE</td><td>TRUE</td><td>2009-06-09 21:00:00</td><td>2009-06-09</td><td>NA</td><td>NA</td></tr>\n",
       "\t<tr><td>290607013</td><td>s:40~l:46~e:290607013~c:290607013</td><td>2009-06-08T00:00Z</td><td>0</td><td>TRUE</td><td>FALSE</td><td>FALSE</td><td>FALSE</td><td>2009-06-08T00:00Z</td><td>event</td><td>⋯</td><td>290607013</td><td>2009</td><td>3</td><td> TRUE</td><td>TRUE</td><td>TRUE</td><td>2009-06-07 20:00:00</td><td>2009-06-07</td><td>NA</td><td>NA</td></tr>\n",
       "\t<tr><td>290604013</td><td>s:40~l:46~e:290604013~c:290604013</td><td>2009-06-05T01:00Z</td><td>0</td><td>TRUE</td><td>FALSE</td><td>FALSE</td><td>FALSE</td><td>2009-06-05T01:00Z</td><td>event</td><td>⋯</td><td>290604013</td><td>2009</td><td>3</td><td> TRUE</td><td>TRUE</td><td>TRUE</td><td>2009-06-04 21:00:00</td><td>2009-06-04</td><td>NA</td><td>NA</td></tr>\n",
       "\t<tr><td>290530019</td><td>s:40~l:46~e:290530019~c:290530019</td><td>2009-05-31T00:30Z</td><td>0</td><td>TRUE</td><td>FALSE</td><td>FALSE</td><td>FALSE</td><td>2009-05-31T00:30Z</td><td>event</td><td>⋯</td><td>290530019</td><td>2009</td><td>3</td><td> TRUE</td><td>TRUE</td><td>TRUE</td><td>2009-05-30 20:30:00</td><td>2009-05-30</td><td>NA</td><td>NA</td></tr>\n",
       "</tbody>\n",
       "</table>\n"
      ],
      "text/latex": [
       "A hoopR\\_data: 6 × 67\n",
       "\\begin{tabular}{lllllllllllllllllllll}\n",
       " id & uid & date & attendance & time\\_valid & neutral\\_site & conference\\_competition & recent & start\\_date & notes\\_type & ⋯ & game\\_id & season & season\\_type & PBP & team\\_box & player\\_box & game\\_date\\_time & game\\_date & home\\_venue\\_id & away\\_venue\\_id\\\\\n",
       " <int> & <chr> & <chr> & <int> & <lgl> & <lgl> & <lgl> & <lgl> & <chr> & <chr> & ⋯ & <int> & <int> & <int> & <lgl> & <lgl> & <lgl> & <dttm> & <date> & <int> & <int>\\\\\n",
       "\\hline\n",
       "\t 290614019 & s:40\\textasciitilde{}l:46\\textasciitilde{}e:290614019\\textasciitilde{}c:290614019 & 2009-06-15T00:00Z & 0 & TRUE & FALSE & FALSE & FALSE & 2009-06-15T00:00Z & event & ⋯ & 290614019 & 2009 & 3 &  TRUE & TRUE & TRUE & 2009-06-14 20:00:00 & 2009-06-14 & NA & NA\\\\\n",
       "\t 290611019 & s:40\\textasciitilde{}l:46\\textasciitilde{}e:290611019\\textasciitilde{}c:290611019 & 2009-06-12T01:00Z & 0 & TRUE & FALSE & FALSE & FALSE & 2009-06-12T01:00Z & event & ⋯ & 290611019 & 2009 & 3 &  TRUE & TRUE & TRUE & 2009-06-11 21:00:00 & 2009-06-11 & NA & NA\\\\\n",
       "\t 290609019 & s:40\\textasciitilde{}l:46\\textasciitilde{}e:290609019\\textasciitilde{}c:290609019 & 2009-06-10T01:00Z & 0 & TRUE & FALSE & FALSE & FALSE & 2009-06-10T01:00Z & event & ⋯ & 290609019 & 2009 & 3 & FALSE & TRUE & TRUE & 2009-06-09 21:00:00 & 2009-06-09 & NA & NA\\\\\n",
       "\t 290607013 & s:40\\textasciitilde{}l:46\\textasciitilde{}e:290607013\\textasciitilde{}c:290607013 & 2009-06-08T00:00Z & 0 & TRUE & FALSE & FALSE & FALSE & 2009-06-08T00:00Z & event & ⋯ & 290607013 & 2009 & 3 &  TRUE & TRUE & TRUE & 2009-06-07 20:00:00 & 2009-06-07 & NA & NA\\\\\n",
       "\t 290604013 & s:40\\textasciitilde{}l:46\\textasciitilde{}e:290604013\\textasciitilde{}c:290604013 & 2009-06-05T01:00Z & 0 & TRUE & FALSE & FALSE & FALSE & 2009-06-05T01:00Z & event & ⋯ & 290604013 & 2009 & 3 &  TRUE & TRUE & TRUE & 2009-06-04 21:00:00 & 2009-06-04 & NA & NA\\\\\n",
       "\t 290530019 & s:40\\textasciitilde{}l:46\\textasciitilde{}e:290530019\\textasciitilde{}c:290530019 & 2009-05-31T00:30Z & 0 & TRUE & FALSE & FALSE & FALSE & 2009-05-31T00:30Z & event & ⋯ & 290530019 & 2009 & 3 &  TRUE & TRUE & TRUE & 2009-05-30 20:30:00 & 2009-05-30 & NA & NA\\\\\n",
       "\\end{tabular}\n"
      ],
      "text/markdown": [
       "\n",
       "A hoopR_data: 6 × 67\n",
       "\n",
       "| id &lt;int&gt; | uid &lt;chr&gt; | date &lt;chr&gt; | attendance &lt;int&gt; | time_valid &lt;lgl&gt; | neutral_site &lt;lgl&gt; | conference_competition &lt;lgl&gt; | recent &lt;lgl&gt; | start_date &lt;chr&gt; | notes_type &lt;chr&gt; | ⋯ ⋯ | game_id &lt;int&gt; | season &lt;int&gt; | season_type &lt;int&gt; | PBP &lt;lgl&gt; | team_box &lt;lgl&gt; | player_box &lt;lgl&gt; | game_date_time &lt;dttm&gt; | game_date &lt;date&gt; | home_venue_id &lt;int&gt; | away_venue_id &lt;int&gt; |\n",
       "|---|---|---|---|---|---|---|---|---|---|---|---|---|---|---|---|---|---|---|---|---|\n",
       "| 290614019 | s:40~l:46~e:290614019~c:290614019 | 2009-06-15T00:00Z | 0 | TRUE | FALSE | FALSE | FALSE | 2009-06-15T00:00Z | event | ⋯ | 290614019 | 2009 | 3 |  TRUE | TRUE | TRUE | 2009-06-14 20:00:00 | 2009-06-14 | NA | NA |\n",
       "| 290611019 | s:40~l:46~e:290611019~c:290611019 | 2009-06-12T01:00Z | 0 | TRUE | FALSE | FALSE | FALSE | 2009-06-12T01:00Z | event | ⋯ | 290611019 | 2009 | 3 |  TRUE | TRUE | TRUE | 2009-06-11 21:00:00 | 2009-06-11 | NA | NA |\n",
       "| 290609019 | s:40~l:46~e:290609019~c:290609019 | 2009-06-10T01:00Z | 0 | TRUE | FALSE | FALSE | FALSE | 2009-06-10T01:00Z | event | ⋯ | 290609019 | 2009 | 3 | FALSE | TRUE | TRUE | 2009-06-09 21:00:00 | 2009-06-09 | NA | NA |\n",
       "| 290607013 | s:40~l:46~e:290607013~c:290607013 | 2009-06-08T00:00Z | 0 | TRUE | FALSE | FALSE | FALSE | 2009-06-08T00:00Z | event | ⋯ | 290607013 | 2009 | 3 |  TRUE | TRUE | TRUE | 2009-06-07 20:00:00 | 2009-06-07 | NA | NA |\n",
       "| 290604013 | s:40~l:46~e:290604013~c:290604013 | 2009-06-05T01:00Z | 0 | TRUE | FALSE | FALSE | FALSE | 2009-06-05T01:00Z | event | ⋯ | 290604013 | 2009 | 3 |  TRUE | TRUE | TRUE | 2009-06-04 21:00:00 | 2009-06-04 | NA | NA |\n",
       "| 290530019 | s:40~l:46~e:290530019~c:290530019 | 2009-05-31T00:30Z | 0 | TRUE | FALSE | FALSE | FALSE | 2009-05-31T00:30Z | event | ⋯ | 290530019 | 2009 | 3 |  TRUE | TRUE | TRUE | 2009-05-30 20:30:00 | 2009-05-30 | NA | NA |\n",
       "\n"
      ],
      "text/plain": [
       "  id        uid                               date              attendance\n",
       "1 290614019 s:40~l:46~e:290614019~c:290614019 2009-06-15T00:00Z 0         \n",
       "2 290611019 s:40~l:46~e:290611019~c:290611019 2009-06-12T01:00Z 0         \n",
       "3 290609019 s:40~l:46~e:290609019~c:290609019 2009-06-10T01:00Z 0         \n",
       "4 290607013 s:40~l:46~e:290607013~c:290607013 2009-06-08T00:00Z 0         \n",
       "5 290604013 s:40~l:46~e:290604013~c:290604013 2009-06-05T01:00Z 0         \n",
       "6 290530019 s:40~l:46~e:290530019~c:290530019 2009-05-31T00:30Z 0         \n",
       "  time_valid neutral_site conference_competition recent start_date       \n",
       "1 TRUE       FALSE        FALSE                  FALSE  2009-06-15T00:00Z\n",
       "2 TRUE       FALSE        FALSE                  FALSE  2009-06-12T01:00Z\n",
       "3 TRUE       FALSE        FALSE                  FALSE  2009-06-10T01:00Z\n",
       "4 TRUE       FALSE        FALSE                  FALSE  2009-06-08T00:00Z\n",
       "5 TRUE       FALSE        FALSE                  FALSE  2009-06-05T01:00Z\n",
       "6 TRUE       FALSE        FALSE                  FALSE  2009-05-31T00:30Z\n",
       "  notes_type ⋯ game_id   season season_type PBP   team_box player_box\n",
       "1 event      ⋯ 290614019 2009   3            TRUE TRUE     TRUE      \n",
       "2 event      ⋯ 290611019 2009   3            TRUE TRUE     TRUE      \n",
       "3 event      ⋯ 290609019 2009   3           FALSE TRUE     TRUE      \n",
       "4 event      ⋯ 290607013 2009   3            TRUE TRUE     TRUE      \n",
       "5 event      ⋯ 290604013 2009   3            TRUE TRUE     TRUE      \n",
       "6 event      ⋯ 290530019 2009   3            TRUE TRUE     TRUE      \n",
       "  game_date_time      game_date  home_venue_id away_venue_id\n",
       "1 2009-06-14 20:00:00 2009-06-14 NA            NA           \n",
       "2 2009-06-11 21:00:00 2009-06-11 NA            NA           \n",
       "3 2009-06-09 21:00:00 2009-06-09 NA            NA           \n",
       "4 2009-06-07 20:00:00 2009-06-07 NA            NA           \n",
       "5 2009-06-04 21:00:00 2009-06-04 NA            NA           \n",
       "6 2009-05-30 20:30:00 2009-05-30 NA            NA           "
      ]
     },
     "metadata": {},
     "output_type": "display_data"
    }
   ],
   "source": [
    "# Establishing Years 2009 - 2022\n",
    "years = c(2009:2022)\n",
    "\n",
    "#load full schedule\n",
    "seasons <- load_nba_schedule(seasons = years)\n",
    "head(seasons)"
   ]
  },
  {
   "cell_type": "code",
   "execution_count": 3,
   "id": "3c9e7ddc-9ccd-452d-8928-de566e70e111",
   "metadata": {
    "tags": [],
    "vscode": {
     "languageId": "r"
    }
   },
   "outputs": [
    {
     "data": {
      "text/html": [
       "<table class=\"dataframe\">\n",
       "<caption>A hoopR_data: 6 × 17</caption>\n",
       "<thead>\n",
       "\t<tr><th scope=col>game_id</th><th scope=col>date</th><th scope=col>season</th><th scope=col>status_type_detail</th><th scope=col>home_id</th><th scope=col>home_display_name</th><th scope=col>away_id</th><th scope=col>away_display_name</th><th scope=col>home_score</th><th scope=col>away_score</th><th scope=col>home_winner</th><th scope=col>home_color</th><th scope=col>home_alternate_color</th><th scope=col>away_color</th><th scope=col>away_alternate_color</th><th scope=col>id</th><th scope=col>home_margin</th></tr>\n",
       "\t<tr><th scope=col>&lt;int&gt;</th><th scope=col>&lt;chr&gt;</th><th scope=col>&lt;int&gt;</th><th scope=col>&lt;chr&gt;</th><th scope=col>&lt;int&gt;</th><th scope=col>&lt;chr&gt;</th><th scope=col>&lt;int&gt;</th><th scope=col>&lt;chr&gt;</th><th scope=col>&lt;int&gt;</th><th scope=col>&lt;int&gt;</th><th scope=col>&lt;lgl&gt;</th><th scope=col>&lt;chr&gt;</th><th scope=col>&lt;chr&gt;</th><th scope=col>&lt;chr&gt;</th><th scope=col>&lt;chr&gt;</th><th scope=col>&lt;int&gt;</th><th scope=col>&lt;int&gt;</th></tr>\n",
       "</thead>\n",
       "<tbody>\n",
       "\t<tr><td>290415012</td><td>2009-04-16T02:30Z</td><td>2009</td><td>Final   </td><td>12</td><td>LA Clippers           </td><td>25</td><td>Oklahoma City Thunder</td><td> 85</td><td>126</td><td>FALSE</td><td>FA0028</td><td>f1f2f3</td><td>1C3F2C</td><td>f05133</td><td>290415012</td><td>-41</td></tr>\n",
       "\t<tr><td>290415021</td><td>2009-04-16T02:30Z</td><td>2009</td><td>Final   </td><td>21</td><td>Phoenix Suns          </td><td> 9</td><td>Golden State Warriors</td><td>117</td><td>113</td><td> TRUE</td><td>23006A</td><td>f1f2f3</td><td>00275D</td><td>fdb927</td><td>290415021</td><td>  4</td></tr>\n",
       "\t<tr><td>290415022</td><td>2009-04-16T02:30Z</td><td>2009</td><td>Final   </td><td>22</td><td>Portland Trail Blazers</td><td> 7</td><td>Denver Nuggets       </td><td>104</td><td> 76</td><td> TRUE</td><td>000000</td><td>bac3c9</td><td>0860A8</td><td>fdb927</td><td>290415022</td><td> 28</td></tr>\n",
       "\t<tr><td>290415002</td><td>2009-04-16T00:00Z</td><td>2009</td><td>Final   </td><td> 2</td><td>Boston Celtics        </td><td>27</td><td>Washington Wizards   </td><td>115</td><td>107</td><td> TRUE</td><td>006532</td><td>f1f2f3</td><td>0E3764</td><td>e31837</td><td>290415002</td><td>  8</td></tr>\n",
       "\t<tr><td>290415004</td><td>2009-04-16T00:00Z</td><td>2009</td><td>Final   </td><td> 4</td><td>Chicago Bulls         </td><td>28</td><td>Toronto Raptors      </td><td> 98</td><td>109</td><td>FALSE</td><td>000000</td><td>000000</td><td>CE0F41</td><td>061922</td><td>290415004</td><td>-11</td></tr>\n",
       "\t<tr><td>290415005</td><td>2009-04-16T00:00Z</td><td>2009</td><td>Final/OT</td><td> 5</td><td>Cleveland Cavaliers   </td><td>20</td><td>Philadelphia 76ers   </td><td>110</td><td>111</td><td>FALSE</td><td>061642</td><td>fdbb30</td><td>000000</td><td>f1f2f3</td><td>290415005</td><td> -1</td></tr>\n",
       "</tbody>\n",
       "</table>\n"
      ],
      "text/latex": [
       "A hoopR\\_data: 6 × 17\n",
       "\\begin{tabular}{lllllllllllllllll}\n",
       " game\\_id & date & season & status\\_type\\_detail & home\\_id & home\\_display\\_name & away\\_id & away\\_display\\_name & home\\_score & away\\_score & home\\_winner & home\\_color & home\\_alternate\\_color & away\\_color & away\\_alternate\\_color & id & home\\_margin\\\\\n",
       " <int> & <chr> & <int> & <chr> & <int> & <chr> & <int> & <chr> & <int> & <int> & <lgl> & <chr> & <chr> & <chr> & <chr> & <int> & <int>\\\\\n",
       "\\hline\n",
       "\t 290415012 & 2009-04-16T02:30Z & 2009 & Final    & 12 & LA Clippers            & 25 & Oklahoma City Thunder &  85 & 126 & FALSE & FA0028 & f1f2f3 & 1C3F2C & f05133 & 290415012 & -41\\\\\n",
       "\t 290415021 & 2009-04-16T02:30Z & 2009 & Final    & 21 & Phoenix Suns           &  9 & Golden State Warriors & 117 & 113 &  TRUE & 23006A & f1f2f3 & 00275D & fdb927 & 290415021 &   4\\\\\n",
       "\t 290415022 & 2009-04-16T02:30Z & 2009 & Final    & 22 & Portland Trail Blazers &  7 & Denver Nuggets        & 104 &  76 &  TRUE & 000000 & bac3c9 & 0860A8 & fdb927 & 290415022 &  28\\\\\n",
       "\t 290415002 & 2009-04-16T00:00Z & 2009 & Final    &  2 & Boston Celtics         & 27 & Washington Wizards    & 115 & 107 &  TRUE & 006532 & f1f2f3 & 0E3764 & e31837 & 290415002 &   8\\\\\n",
       "\t 290415004 & 2009-04-16T00:00Z & 2009 & Final    &  4 & Chicago Bulls          & 28 & Toronto Raptors       &  98 & 109 & FALSE & 000000 & 000000 & CE0F41 & 061922 & 290415004 & -11\\\\\n",
       "\t 290415005 & 2009-04-16T00:00Z & 2009 & Final/OT &  5 & Cleveland Cavaliers    & 20 & Philadelphia 76ers    & 110 & 111 & FALSE & 061642 & fdbb30 & 000000 & f1f2f3 & 290415005 &  -1\\\\\n",
       "\\end{tabular}\n"
      ],
      "text/markdown": [
       "\n",
       "A hoopR_data: 6 × 17\n",
       "\n",
       "| game_id &lt;int&gt; | date &lt;chr&gt; | season &lt;int&gt; | status_type_detail &lt;chr&gt; | home_id &lt;int&gt; | home_display_name &lt;chr&gt; | away_id &lt;int&gt; | away_display_name &lt;chr&gt; | home_score &lt;int&gt; | away_score &lt;int&gt; | home_winner &lt;lgl&gt; | home_color &lt;chr&gt; | home_alternate_color &lt;chr&gt; | away_color &lt;chr&gt; | away_alternate_color &lt;chr&gt; | id &lt;int&gt; | home_margin &lt;int&gt; |\n",
       "|---|---|---|---|---|---|---|---|---|---|---|---|---|---|---|---|---|\n",
       "| 290415012 | 2009-04-16T02:30Z | 2009 | Final    | 12 | LA Clippers            | 25 | Oklahoma City Thunder |  85 | 126 | FALSE | FA0028 | f1f2f3 | 1C3F2C | f05133 | 290415012 | -41 |\n",
       "| 290415021 | 2009-04-16T02:30Z | 2009 | Final    | 21 | Phoenix Suns           |  9 | Golden State Warriors | 117 | 113 |  TRUE | 23006A | f1f2f3 | 00275D | fdb927 | 290415021 |   4 |\n",
       "| 290415022 | 2009-04-16T02:30Z | 2009 | Final    | 22 | Portland Trail Blazers |  7 | Denver Nuggets        | 104 |  76 |  TRUE | 000000 | bac3c9 | 0860A8 | fdb927 | 290415022 |  28 |\n",
       "| 290415002 | 2009-04-16T00:00Z | 2009 | Final    |  2 | Boston Celtics         | 27 | Washington Wizards    | 115 | 107 |  TRUE | 006532 | f1f2f3 | 0E3764 | e31837 | 290415002 |   8 |\n",
       "| 290415004 | 2009-04-16T00:00Z | 2009 | Final    |  4 | Chicago Bulls          | 28 | Toronto Raptors       |  98 | 109 | FALSE | 000000 | 000000 | CE0F41 | 061922 | 290415004 | -11 |\n",
       "| 290415005 | 2009-04-16T00:00Z | 2009 | Final/OT |  5 | Cleveland Cavaliers    | 20 | Philadelphia 76ers    | 110 | 111 | FALSE | 061642 | fdbb30 | 000000 | f1f2f3 | 290415005 |  -1 |\n",
       "\n"
      ],
      "text/plain": [
       "  game_id   date              season status_type_detail home_id\n",
       "1 290415012 2009-04-16T02:30Z 2009   Final              12     \n",
       "2 290415021 2009-04-16T02:30Z 2009   Final              21     \n",
       "3 290415022 2009-04-16T02:30Z 2009   Final              22     \n",
       "4 290415002 2009-04-16T00:00Z 2009   Final               2     \n",
       "5 290415004 2009-04-16T00:00Z 2009   Final               4     \n",
       "6 290415005 2009-04-16T00:00Z 2009   Final/OT            5     \n",
       "  home_display_name      away_id away_display_name     home_score away_score\n",
       "1 LA Clippers            25      Oklahoma City Thunder  85        126       \n",
       "2 Phoenix Suns            9      Golden State Warriors 117        113       \n",
       "3 Portland Trail Blazers  7      Denver Nuggets        104         76       \n",
       "4 Boston Celtics         27      Washington Wizards    115        107       \n",
       "5 Chicago Bulls          28      Toronto Raptors        98        109       \n",
       "6 Cleveland Cavaliers    20      Philadelphia 76ers    110        111       \n",
       "  home_winner home_color home_alternate_color away_color away_alternate_color\n",
       "1 FALSE       FA0028     f1f2f3               1C3F2C     f05133              \n",
       "2  TRUE       23006A     f1f2f3               00275D     fdb927              \n",
       "3  TRUE       000000     bac3c9               0860A8     fdb927              \n",
       "4  TRUE       006532     f1f2f3               0E3764     e31837              \n",
       "5 FALSE       000000     000000               CE0F41     061922              \n",
       "6 FALSE       061642     fdbb30               000000     f1f2f3              \n",
       "  id        home_margin\n",
       "1 290415012 -41        \n",
       "2 290415021   4        \n",
       "3 290415022  28        \n",
       "4 290415002   8        \n",
       "5 290415004 -11        \n",
       "6 290415005  -1        "
      ]
     },
     "metadata": {},
     "output_type": "display_data"
    }
   ],
   "source": [
    "# Filter for only regular season games that have concluded, select relevant variables (for all analysis)\n",
    "# Calculate Home team margin of victory for each game \n",
    "seasons_clean <- seasons %>%\n",
    "  filter(type_abbreviation == \"STD\", status_type_detail == \"Final\" |\n",
    "           status_type_detail == \"Final/OT\" ) %>%\n",
    "  select(game_id, date, season, status_type_detail,home_id, home_display_name,away_id, away_display_name,\n",
    "         home_score, away_score, home_winner, home_color, home_alternate_color,\n",
    "         away_color, away_alternate_color, id) %>%\n",
    "  mutate(home_margin = home_score - away_score)\n",
    "head(seasons_clean)"
   ]
  },
  {
   "cell_type": "code",
   "execution_count": 4,
   "id": "29730b1c-bc35-416b-a3dd-22f7327e39ca",
   "metadata": {
    "tags": [],
    "vscode": {
     "languageId": "r"
    }
   },
   "outputs": [],
   "source": [
    "set.seed(201)\n",
    "#Pull a random sample of 82 games from the data set, without replacement\n",
    "sample <- seasons_clean %>%\n",
    "  rep_sample_n(reps = 1, size = 82, replace = FALSE)"
   ]
  },
  {
   "cell_type": "code",
   "execution_count": 5,
   "id": "db16ff6c-2095-44da-a9ac-82508c4d3fe6",
   "metadata": {
    "tags": [],
    "vscode": {
     "languageId": "r"
    }
   },
   "outputs": [
    {
     "data": {
      "image/png": "[encoded data removed]",
      "text/plain": [
       "plot without title"
      ]
     },
     "metadata": {
      "image/png": {
       "height": 420,
       "width": 420
      }
     },
     "output_type": "display_data"
    }
   ],
   "source": [
    "# Plotting the sample \n",
    "sample_dist <- sample %>%\n",
    "    ggplot(aes(x = home_margin)) +\n",
    "    geom_histogram(binwidth = 7) + \n",
    "    xlab(\"Difference between home and away team score\") +\n",
    "    ggtitle(\"Sample distribution\")\n",
    "\n",
    "sample_dist"
   ]
  },
  {
   "cell_type": "markdown",
   "id": "eb3fcefe-3e10-4e54-ba08-12beb2608101",
   "metadata": {},
   "source": [
    "We can see that the sample distribution is unimodal and is roughly bell shaped."
   ]
  },
  {
   "cell_type": "code",
   "execution_count": 6,
   "id": "67939b66-7678-4394-86a1-82a8c1805cb0",
   "metadata": {
    "tags": [],
    "vscode": {
     "languageId": "r"
    }
   },
   "outputs": [
    {
     "data": {
      "text/html": [
       "3.09756097560976"
      ],
      "text/latex": [
       "3.09756097560976"
      ],
      "text/markdown": [
       "3.09756097560976"
      ],
      "text/plain": [
       "[1] 3.097561"
      ]
     },
     "metadata": {},
     "output_type": "display_data"
    }
   ],
   "source": [
    "#Calculate mean test statistic for the one sample\n",
    "sample_mean <- summarize(sample, mean_home_margin = mean(home_margin)) %>%\n",
    "    pull()\n",
    "sample_mean"
   ]
  },
  {
   "cell_type": "markdown",
   "id": "58e0ef74-a4b6-45d9-b395-7d3220848ccd",
   "metadata": {},
   "source": [
    "Let's plot that on top of the sample distribution."
   ]
  },
  {
   "cell_type": "code",
   "execution_count": 11,
   "id": "54d89b8d-0ef0-473f-8c31-9e90cc971c48",
   "metadata": {
    "tags": []
   },
   "outputs": [
    {
     "data": {
      "image/png": "[encoded data removed]",
      "text/plain": [
       "plot without title"
      ]
     },
     "metadata": {
      "image/png": {
       "height": 420,
       "width": 420
      }
     },
     "output_type": "display_data"
    }
   ],
   "source": [
    "# Plot the sample with mean projected\n",
    "sample_dist_with_mean <- sample %>%\n",
    "    ggplot(aes(x = home_margin)) +\n",
    "    geom_histogram(binwidth = 7) + \n",
    "    xlab(\"Difference between home and away team score\") +\n",
    "    ggtitle(\"Sample distribution with sample mean plotted\") + \n",
    "    geom_vline(xintercept = sample_mean, colour=\"red\", linewidth = 2)\n",
    "\n",
    "sample_dist_with_mean"
   ]
  },
  {
   "cell_type": "markdown",
   "id": "0b5f2f2c-e377-44e4-8747-406298dafb10",
   "metadata": {},
   "source": [
    "# Methods: Plan\n",
    "The first thing we will do is import our data from hoopR. There is a lot of data in hoopR, so we will only choose games from 2009 to 2022. After that we have to calculate home team advantage stat. For this we simply use the mutate function to calculate the difference between the home teams score and the away teams score. Once we have that, we take a random sample of size of 82 games using rep_sample_n, to make a sample of one season. This removes any unwanted influence from certain years, teams, etc.\n",
    "\n",
    "From here, we are deciding to use a computational approach to hypothesis testing. So our next step is to bootstrap the sample to create a null hypothesis. We will use the infer package for this. Once that has been created, we will calculate a p value based on our sample mean. We will use a significance level of 5% (0.05). This will allow us to decide whether or not to reject the null hypothesis. We will then form our conclusion and answer our initial question.\n",
    "\n",
    "We expect that the home team will have a significant advantage over the away teams due to the psychological impacts of the fans and the placebo effect of playing at home. \n",
    "\n",
    "Some limitations to our test is that it does not account for many other parameters that can determine how well a team is playing such as field goal percentage, defenesive rating, etc. "
   ]
  },
  {
   "cell_type": "markdown",
   "id": "d17c7de8-8c65-47e7-bb6f-5eb93c569370",
   "metadata": {},
   "source": [
    "# References\n",
    "Belhumeur, K. (2017, October 3). How important is home-court advantage in the NBA? Bleacher Report. \n",
    "    Retrieved March 18, 2023, from https://bleacherreport.com/articles/1520496-how-important-is-home-court-advantage-in-the-nba \n",
    "    \n",
    "Green, J. (2023, February 16). How do the NBA playoffs work? NBA playoffs explained - betway. Betway Insider. \n",
    "    Retrieved March 18, 2023, from https://blog.betway.com/basketball/how-do-the-nba-playoffs-work-nba-playoffs-explained/ \n"
   ]
  }
 ],
 "metadata": {
  "kernelspec": {
   "display_name": "R",
   "language": "R",
   "name": "ir"
  },
  "language_info": {
   "codemirror_mode": "r",
   "file_extension": ".r",
   "mimetype": "text/x-r-source",
   "name": "R",
   "pygments_lexer": "r",
   "version": "4.1.3"
  }
 },
 "nbformat": 4,
 "nbformat_minor": 5
}
