{
 "cells": [
  {
   "cell_type": "code",
   "execution_count": 2,
   "id": "5b6490a2-31e4-4dbe-a180-3da3fcbc0106",
   "metadata": {
    "tags": [],
    "vscode": {
     "languageId": "r"
    }
   },
   "outputs": [
    {
     "name": "stderr",
     "output_type": "stream",
     "text": [
      "Installing package into ‘/home/jupyter/R/x86_64-pc-linux-gnu-library/4.2’\n",
      "(as ‘lib’ is unspecified)\n",
      "\n",
      "Installing package into ‘/home/jupyter/R/x86_64-pc-linux-gnu-library/4.2’\n",
      "(as ‘lib’ is unspecified)\n",
      "\n",
      "Warning message in system(\"timedatectl\", intern = TRUE):\n",
      "“running command 'timedatectl' had status 1”\n",
      "── \u001b[1mAttaching core tidyverse packages\u001b[22m ──────────────────────── tidyverse 2.0.0 ──\n",
      "\u001b[32m✔\u001b[39m \u001b[34mdplyr    \u001b[39m 1.1.0     \u001b[32m✔\u001b[39m \u001b[34mreadr    \u001b[39m 2.1.4\n",
      "\u001b[32m✔\u001b[39m \u001b[34mforcats  \u001b[39m 1.0.0     \u001b[32m✔\u001b[39m \u001b[34mstringr  \u001b[39m 1.5.0\n",
      "\u001b[32m✔\u001b[39m \u001b[34mggplot2  \u001b[39m 3.4.1     \u001b[32m✔\u001b[39m \u001b[34mtibble   \u001b[39m 3.2.1\n",
      "\u001b[32m✔\u001b[39m \u001b[34mlubridate\u001b[39m 1.9.2     \u001b[32m✔\u001b[39m \u001b[34mtidyr    \u001b[39m 1.3.0\n",
      "\u001b[32m✔\u001b[39m \u001b[34mpurrr    \u001b[39m 1.0.1     \n",
      "── \u001b[1mConflicts\u001b[22m ────────────────────────────────────────── tidyverse_conflicts() ──\n",
      "\u001b[31m✖\u001b[39m \u001b[34mdplyr\u001b[39m::\u001b[32mfilter()\u001b[39m masks \u001b[34mstats\u001b[39m::filter()\n",
      "\u001b[31m✖\u001b[39m \u001b[34mdplyr\u001b[39m::\u001b[32mlag()\u001b[39m    masks \u001b[34mstats\u001b[39m::lag()\n",
      "\u001b[36mℹ\u001b[39m Use the conflicted package (\u001b[3m\u001b[34m<http://conflicted.r-lib.org/>\u001b[39m\u001b[23m) to force all conflicts to become errors\n"
     ]
    }
   ],
   "source": [
    "#Load packages\n",
    "install.packages(\"hoopR\")\n",
    "install.packages(\"moderndive\")\n",
    "library(hoopR)\n",
    "library(moderndive)\n",
    "library(tidyverse)\n",
    "library(infer)"
   ]
  },
  {
   "cell_type": "markdown",
   "id": "1cea8224-93db-4a37-9dc7-b8d459d12c02",
   "metadata": {
    "tags": []
   },
   "source": [
    "# Introduction\n",
    "Project By: James Donham, Jack Siemens, Leo Wang, Tiansui Wu\n",
    "\n",
    "There is a common phrase in sports \"home team advantage\", but is this advantage statistically significant? In this project, we will attempt to answer this question with hypothesis testing over a sample of NBA basketball games. \n",
    "\n",
    "## Background Information\n",
    "\n",
    "The NBA is the largest and most well-known professional basketball league in the world. The season concludes with exciting playoffs where the top 8 teams in each conference, ranked by win percentage, get to compete for a chance a the coveted NBA Championship. The playoffs are played in best-out-of-seven series'. The team with higher seeding in the regular season gets \"home court advantage\" for each series, meaning that 4 out of the seven games will be played at the higher seed's home court (Green, 2023). In the NBA, there has always been a notion that teams at their home court play better and have a higher chance of winning. So, throughout the NBA regular season, 30 teams battle in 82 games each to compete for playoff spots and higher seeding for home-court advantage in their playoff series to gain as much advantage as possible. Without the incentive of home-court advantage, games would likely be much less competitive between the top teams in the league who are already guaranteed playoff spots, making some of the best matchups during the regular season less entertaining for the fans. \n",
    "\n",
    "Historically, statistics from 1998 to 2008 show that, the home team has a win percentage of 60.6% in the regular season and 64.9% in the playoffs (Belhumeur, 2017). Taking a look at the current 2022-2023, the reigning champion Golden State Warriors have a home record of 33 wins and 8 losses which would place them as the 3rd best team at home in the league, however, their awful away record of 11 wins and 30 losses makes them the 4th worst team on the road in the NBA. The head coach of the Warriors, Steve Kerr, has publicly stated that he believes the road struggles of his team are due to a lack of urgency and purpose when they are not playing in front of their fans. Kerr's explanation falls in line with some theories that suggest  the possible causes of why teams play better at home include the presence of fans, referee bias for the home team, and a placebo effect on the players who simply play better because they believe that playing at home gives them an advantage (Kotecki 2014).\n",
    "\n",
    "The presence of fans is the most obvious and widely accepted reason why teams may play better at home. This can be explained through the theory that humans seek the approval of their peers, so players will be more likely to put in more effort when approval from their fans is on the line (Kotecki 2014). The approval of fans can have a large impact on an NBA player's life, for example, more fan approval would mean more merchandise sales for the player who gets a percentage of the merchandise sales. Having more fan approval also makes it easier for a player to land better-paying brand deals and endorsements, which gives the player a large incentive to earn the approval of fans when they are present at home games.\n",
    "\n",
    "Referee bias for the home team is another popular theory as to why teams may perform better at home. Sports fans often forget that the referees are also humans who display the same psychology as everyone else. With this, comes the inevitable desire for the approval of the crowd (Kotecki 2014). Calls that do not favour the home team are often booed and there are often negative chants such as \"refs you suck\" whenever the fans deem a bad call was made against the team they are supporting. If the home crowd is negative to the referee, the referees are likely to want to make calls that will please the home crowd to gain the approval of the thousands of people in attendance. \n",
    "\n",
    "Lastly, due to all the talk surrounding the impact and importance of playing at home, players may receive a placebo effect that they play better at home and end up playing better at home. Players may simply gain more confidence when playing at home which leads to better performance.  \n",
    "\n",
    "### Inferential Research Question\n",
    "\n",
    "We are going to be studying the population of all NBA basketball games. The data we are using will be from a package called hoopR containing numerous data over a wide range of NBA games. We are selecting a sample from a population of games from 2009 to 2022, the most recent data the package has. We want to only consider games from recent years as the NBA and the game of basketball are always changing so we want to sample the most recent and accurate representation of NBA games. \n",
    "\n",
    "Our point estimate is a sample mean of a statistic we will call home margin, which is the difference in score between the team playing at home versus the team playing away from home. We then take a sample and calculate our point estimate as the mean of this home margin to obtain the center of our statistic across all games played within our sample. \n",
    "\n",
    "### Hypothesis\n",
    "\n",
    "We will assume a null hypothesis of neither team having an advantage (H0: x_bar = 0), with an alternative hypothesis that the home team does have an advantage (HA: x_bar > 0), where x is our test statistic. "
   ]
  },
  {
   "cell_type": "markdown",
   "id": "348c12df-e2e2-48a6-bf87-e395f1d41c77",
   "metadata": {},
   "source": [
    "# Methods and Results\n",
    "The first thing we will do is import our data from hoopR. There is a lot of data in hoopR, so we will only choose games from 2009 to 2022. After that we have to calculate home team advantage stat. For this we simply use the mutate function to calculate the difference between the home teams score and the away teams score. Once we have that, we take a random sample of size of 82 games using rep_sample_n, to make a sample of one season. This removes any unwanted influence from certain years, teams, etc.\n",
    "\n",
    "From here, we are deciding to use a computational approach to hypothesis testing. So our next step is to bootstrap the sample to create a null hypothesis. We will use the infer package for this. Once that has been created, we will calculate a p-value based on our sample mean. We will use a significance level of 5% (0.05). This will allow us to decide whether or not to reject the null hypothesis. We will then form our conclusion and answer our initial question.\n",
    "\n",
    "We expect that the home team will have a significant advantage over the away teams due to the psychological impacts of the fans on both the players and referees as well as the placebo effect of playing at home.\n"
   ]
  },
  {
   "cell_type": "markdown",
   "id": "f1f0bce7-6243-47ab-9a90-8ca35c129d03",
   "metadata": {},
   "source": [
    "The following code is to compute the home team advantage mean statistic, which is our initial estimate. Additionally, the code below will perform the hypothesis test and calculate a p-value. We will also visualize our sample distribution."
   ]
  },
  {
   "cell_type": "code",
   "execution_count": 3,
   "id": "7265db68-409e-42c9-8847-4564e80ca40d",
   "metadata": {
    "tags": [],
    "vscode": {
     "languageId": "r"
    }
   },
   "outputs": [
    {
     "data": {
      "text/html": [
       "<table class=\"dataframe\">\n",
       "<caption>A hoopR_data: 6 × 67</caption>\n",
       "<thead>\n",
       "\t<tr><th scope=col>id</th><th scope=col>uid</th><th scope=col>date</th><th scope=col>attendance</th><th scope=col>time_valid</th><th scope=col>neutral_site</th><th scope=col>conference_competition</th><th scope=col>recent</th><th scope=col>start_date</th><th scope=col>notes_type</th><th scope=col>⋯</th><th scope=col>game_id</th><th scope=col>season</th><th scope=col>season_type</th><th scope=col>PBP</th><th scope=col>team_box</th><th scope=col>player_box</th><th scope=col>game_date_time</th><th scope=col>game_date</th><th scope=col>home_venue_id</th><th scope=col>away_venue_id</th></tr>\n",
       "\t<tr><th scope=col>&lt;int&gt;</th><th scope=col>&lt;chr&gt;</th><th scope=col>&lt;chr&gt;</th><th scope=col>&lt;int&gt;</th><th scope=col>&lt;lgl&gt;</th><th scope=col>&lt;lgl&gt;</th><th scope=col>&lt;lgl&gt;</th><th scope=col>&lt;lgl&gt;</th><th scope=col>&lt;chr&gt;</th><th scope=col>&lt;chr&gt;</th><th scope=col>⋯</th><th scope=col>&lt;int&gt;</th><th scope=col>&lt;int&gt;</th><th scope=col>&lt;int&gt;</th><th scope=col>&lt;lgl&gt;</th><th scope=col>&lt;lgl&gt;</th><th scope=col>&lt;lgl&gt;</th><th scope=col>&lt;dttm&gt;</th><th scope=col>&lt;date&gt;</th><th scope=col>&lt;int&gt;</th><th scope=col>&lt;int&gt;</th></tr>\n",
       "</thead>\n",
       "<tbody>\n",
       "\t<tr><td>290614019</td><td>s:40~l:46~e:290614019~c:290614019</td><td>2009-06-15T00:00Z</td><td>0</td><td>TRUE</td><td>FALSE</td><td>FALSE</td><td>FALSE</td><td>2009-06-15T00:00Z</td><td>event</td><td>⋯</td><td>290614019</td><td>2009</td><td>3</td><td> TRUE</td><td>TRUE</td><td>TRUE</td><td>2009-06-14 20:00:00</td><td>2009-06-14</td><td>NA</td><td>NA</td></tr>\n",
       "\t<tr><td>290611019</td><td>s:40~l:46~e:290611019~c:290611019</td><td>2009-06-12T01:00Z</td><td>0</td><td>TRUE</td><td>FALSE</td><td>FALSE</td><td>FALSE</td><td>2009-06-12T01:00Z</td><td>event</td><td>⋯</td><td>290611019</td><td>2009</td><td>3</td><td> TRUE</td><td>TRUE</td><td>TRUE</td><td>2009-06-11 21:00:00</td><td>2009-06-11</td><td>NA</td><td>NA</td></tr>\n",
       "\t<tr><td>290609019</td><td>s:40~l:46~e:290609019~c:290609019</td><td>2009-06-10T01:00Z</td><td>0</td><td>TRUE</td><td>FALSE</td><td>FALSE</td><td>FALSE</td><td>2009-06-10T01:00Z</td><td>event</td><td>⋯</td><td>290609019</td><td>2009</td><td>3</td><td>FALSE</td><td>TRUE</td><td>TRUE</td><td>2009-06-09 21:00:00</td><td>2009-06-09</td><td>NA</td><td>NA</td></tr>\n",
       "\t<tr><td>290607013</td><td>s:40~l:46~e:290607013~c:290607013</td><td>2009-06-08T00:00Z</td><td>0</td><td>TRUE</td><td>FALSE</td><td>FALSE</td><td>FALSE</td><td>2009-06-08T00:00Z</td><td>event</td><td>⋯</td><td>290607013</td><td>2009</td><td>3</td><td> TRUE</td><td>TRUE</td><td>TRUE</td><td>2009-06-07 20:00:00</td><td>2009-06-07</td><td>NA</td><td>NA</td></tr>\n",
       "\t<tr><td>290604013</td><td>s:40~l:46~e:290604013~c:290604013</td><td>2009-06-05T01:00Z</td><td>0</td><td>TRUE</td><td>FALSE</td><td>FALSE</td><td>FALSE</td><td>2009-06-05T01:00Z</td><td>event</td><td>⋯</td><td>290604013</td><td>2009</td><td>3</td><td> TRUE</td><td>TRUE</td><td>TRUE</td><td>2009-06-04 21:00:00</td><td>2009-06-04</td><td>NA</td><td>NA</td></tr>\n",
       "\t<tr><td>290530019</td><td>s:40~l:46~e:290530019~c:290530019</td><td>2009-05-31T00:30Z</td><td>0</td><td>TRUE</td><td>FALSE</td><td>FALSE</td><td>FALSE</td><td>2009-05-31T00:30Z</td><td>event</td><td>⋯</td><td>290530019</td><td>2009</td><td>3</td><td> TRUE</td><td>TRUE</td><td>TRUE</td><td>2009-05-30 20:30:00</td><td>2009-05-30</td><td>NA</td><td>NA</td></tr>\n",
       "</tbody>\n",
       "</table>\n"
      ],
      "text/latex": [
       "A hoopR\\_data: 6 × 67\n",
       "\\begin{tabular}{lllllllllllllllllllll}\n",
       " id & uid & date & attendance & time\\_valid & neutral\\_site & conference\\_competition & recent & start\\_date & notes\\_type & ⋯ & game\\_id & season & season\\_type & PBP & team\\_box & player\\_box & game\\_date\\_time & game\\_date & home\\_venue\\_id & away\\_venue\\_id\\\\\n",
       " <int> & <chr> & <chr> & <int> & <lgl> & <lgl> & <lgl> & <lgl> & <chr> & <chr> & ⋯ & <int> & <int> & <int> & <lgl> & <lgl> & <lgl> & <dttm> & <date> & <int> & <int>\\\\\n",
       "\\hline\n",
       "\t 290614019 & s:40\\textasciitilde{}l:46\\textasciitilde{}e:290614019\\textasciitilde{}c:290614019 & 2009-06-15T00:00Z & 0 & TRUE & FALSE & FALSE & FALSE & 2009-06-15T00:00Z & event & ⋯ & 290614019 & 2009 & 3 &  TRUE & TRUE & TRUE & 2009-06-14 20:00:00 & 2009-06-14 & NA & NA\\\\\n",
       "\t 290611019 & s:40\\textasciitilde{}l:46\\textasciitilde{}e:290611019\\textasciitilde{}c:290611019 & 2009-06-12T01:00Z & 0 & TRUE & FALSE & FALSE & FALSE & 2009-06-12T01:00Z & event & ⋯ & 290611019 & 2009 & 3 &  TRUE & TRUE & TRUE & 2009-06-11 21:00:00 & 2009-06-11 & NA & NA\\\\\n",
       "\t 290609019 & s:40\\textasciitilde{}l:46\\textasciitilde{}e:290609019\\textasciitilde{}c:290609019 & 2009-06-10T01:00Z & 0 & TRUE & FALSE & FALSE & FALSE & 2009-06-10T01:00Z & event & ⋯ & 290609019 & 2009 & 3 & FALSE & TRUE & TRUE & 2009-06-09 21:00:00 & 2009-06-09 & NA & NA\\\\\n",
       "\t 290607013 & s:40\\textasciitilde{}l:46\\textasciitilde{}e:290607013\\textasciitilde{}c:290607013 & 2009-06-08T00:00Z & 0 & TRUE & FALSE & FALSE & FALSE & 2009-06-08T00:00Z & event & ⋯ & 290607013 & 2009 & 3 &  TRUE & TRUE & TRUE & 2009-06-07 20:00:00 & 2009-06-07 & NA & NA\\\\\n",
       "\t 290604013 & s:40\\textasciitilde{}l:46\\textasciitilde{}e:290604013\\textasciitilde{}c:290604013 & 2009-06-05T01:00Z & 0 & TRUE & FALSE & FALSE & FALSE & 2009-06-05T01:00Z & event & ⋯ & 290604013 & 2009 & 3 &  TRUE & TRUE & TRUE & 2009-06-04 21:00:00 & 2009-06-04 & NA & NA\\\\\n",
       "\t 290530019 & s:40\\textasciitilde{}l:46\\textasciitilde{}e:290530019\\textasciitilde{}c:290530019 & 2009-05-31T00:30Z & 0 & TRUE & FALSE & FALSE & FALSE & 2009-05-31T00:30Z & event & ⋯ & 290530019 & 2009 & 3 &  TRUE & TRUE & TRUE & 2009-05-30 20:30:00 & 2009-05-30 & NA & NA\\\\\n",
       "\\end{tabular}\n"
      ],
      "text/markdown": [
       "\n",
       "A hoopR_data: 6 × 67\n",
       "\n",
       "| id &lt;int&gt; | uid &lt;chr&gt; | date &lt;chr&gt; | attendance &lt;int&gt; | time_valid &lt;lgl&gt; | neutral_site &lt;lgl&gt; | conference_competition &lt;lgl&gt; | recent &lt;lgl&gt; | start_date &lt;chr&gt; | notes_type &lt;chr&gt; | ⋯ ⋯ | game_id &lt;int&gt; | season &lt;int&gt; | season_type &lt;int&gt; | PBP &lt;lgl&gt; | team_box &lt;lgl&gt; | player_box &lt;lgl&gt; | game_date_time &lt;dttm&gt; | game_date &lt;date&gt; | home_venue_id &lt;int&gt; | away_venue_id &lt;int&gt; |\n",
       "|---|---|---|---|---|---|---|---|---|---|---|---|---|---|---|---|---|---|---|---|---|\n",
       "| 290614019 | s:40~l:46~e:290614019~c:290614019 | 2009-06-15T00:00Z | 0 | TRUE | FALSE | FALSE | FALSE | 2009-06-15T00:00Z | event | ⋯ | 290614019 | 2009 | 3 |  TRUE | TRUE | TRUE | 2009-06-14 20:00:00 | 2009-06-14 | NA | NA |\n",
       "| 290611019 | s:40~l:46~e:290611019~c:290611019 | 2009-06-12T01:00Z | 0 | TRUE | FALSE | FALSE | FALSE | 2009-06-12T01:00Z | event | ⋯ | 290611019 | 2009 | 3 |  TRUE | TRUE | TRUE | 2009-06-11 21:00:00 | 2009-06-11 | NA | NA |\n",
       "| 290609019 | s:40~l:46~e:290609019~c:290609019 | 2009-06-10T01:00Z | 0 | TRUE | FALSE | FALSE | FALSE | 2009-06-10T01:00Z | event | ⋯ | 290609019 | 2009 | 3 | FALSE | TRUE | TRUE | 2009-06-09 21:00:00 | 2009-06-09 | NA | NA |\n",
       "| 290607013 | s:40~l:46~e:290607013~c:290607013 | 2009-06-08T00:00Z | 0 | TRUE | FALSE | FALSE | FALSE | 2009-06-08T00:00Z | event | ⋯ | 290607013 | 2009 | 3 |  TRUE | TRUE | TRUE | 2009-06-07 20:00:00 | 2009-06-07 | NA | NA |\n",
       "| 290604013 | s:40~l:46~e:290604013~c:290604013 | 2009-06-05T01:00Z | 0 | TRUE | FALSE | FALSE | FALSE | 2009-06-05T01:00Z | event | ⋯ | 290604013 | 2009 | 3 |  TRUE | TRUE | TRUE | 2009-06-04 21:00:00 | 2009-06-04 | NA | NA |\n",
       "| 290530019 | s:40~l:46~e:290530019~c:290530019 | 2009-05-31T00:30Z | 0 | TRUE | FALSE | FALSE | FALSE | 2009-05-31T00:30Z | event | ⋯ | 290530019 | 2009 | 3 |  TRUE | TRUE | TRUE | 2009-05-30 20:30:00 | 2009-05-30 | NA | NA |\n",
       "\n"
      ],
      "text/plain": [
       "  id        uid                               date              attendance\n",
       "1 290614019 s:40~l:46~e:290614019~c:290614019 2009-06-15T00:00Z 0         \n",
       "2 290611019 s:40~l:46~e:290611019~c:290611019 2009-06-12T01:00Z 0         \n",
       "3 290609019 s:40~l:46~e:290609019~c:290609019 2009-06-10T01:00Z 0         \n",
       "4 290607013 s:40~l:46~e:290607013~c:290607013 2009-06-08T00:00Z 0         \n",
       "5 290604013 s:40~l:46~e:290604013~c:290604013 2009-06-05T01:00Z 0         \n",
       "6 290530019 s:40~l:46~e:290530019~c:290530019 2009-05-31T00:30Z 0         \n",
       "  time_valid neutral_site conference_competition recent start_date       \n",
       "1 TRUE       FALSE        FALSE                  FALSE  2009-06-15T00:00Z\n",
       "2 TRUE       FALSE        FALSE                  FALSE  2009-06-12T01:00Z\n",
       "3 TRUE       FALSE        FALSE                  FALSE  2009-06-10T01:00Z\n",
       "4 TRUE       FALSE        FALSE                  FALSE  2009-06-08T00:00Z\n",
       "5 TRUE       FALSE        FALSE                  FALSE  2009-06-05T01:00Z\n",
       "6 TRUE       FALSE        FALSE                  FALSE  2009-05-31T00:30Z\n",
       "  notes_type ⋯ game_id   season season_type PBP   team_box player_box\n",
       "1 event      ⋯ 290614019 2009   3            TRUE TRUE     TRUE      \n",
       "2 event      ⋯ 290611019 2009   3            TRUE TRUE     TRUE      \n",
       "3 event      ⋯ 290609019 2009   3           FALSE TRUE     TRUE      \n",
       "4 event      ⋯ 290607013 2009   3            TRUE TRUE     TRUE      \n",
       "5 event      ⋯ 290604013 2009   3            TRUE TRUE     TRUE      \n",
       "6 event      ⋯ 290530019 2009   3            TRUE TRUE     TRUE      \n",
       "  game_date_time      game_date  home_venue_id away_venue_id\n",
       "1 2009-06-14 20:00:00 2009-06-14 NA            NA           \n",
       "2 2009-06-11 21:00:00 2009-06-11 NA            NA           \n",
       "3 2009-06-09 21:00:00 2009-06-09 NA            NA           \n",
       "4 2009-06-07 20:00:00 2009-06-07 NA            NA           \n",
       "5 2009-06-04 21:00:00 2009-06-04 NA            NA           \n",
       "6 2009-05-30 20:30:00 2009-05-30 NA            NA           "
      ]
     },
     "metadata": {},
     "output_type": "display_data"
    }
   ],
   "source": [
    "# Establishing Years 2009 - 2022\n",
    "years = c(2009:2022)\n",
    "\n",
    "# Load full schedule\n",
    "seasons <- load_nba_schedule(seasons = years)\n",
    "head(seasons)"
   ]
  },
  {
   "cell_type": "code",
   "execution_count": 4,
   "id": "3c9e7ddc-9ccd-452d-8928-de566e70e111",
   "metadata": {
    "tags": [],
    "vscode": {
     "languageId": "r"
    }
   },
   "outputs": [
    {
     "data": {
      "text/html": [
       "<table class=\"dataframe\">\n",
       "<caption>A hoopR_data: 6 × 17</caption>\n",
       "<thead>\n",
       "\t<tr><th scope=col>game_id</th><th scope=col>date</th><th scope=col>season</th><th scope=col>status_type_detail</th><th scope=col>home_id</th><th scope=col>home_display_name</th><th scope=col>away_id</th><th scope=col>away_display_name</th><th scope=col>home_score</th><th scope=col>away_score</th><th scope=col>home_winner</th><th scope=col>home_color</th><th scope=col>home_alternate_color</th><th scope=col>away_color</th><th scope=col>away_alternate_color</th><th scope=col>id</th><th scope=col>home_margin</th></tr>\n",
       "\t<tr><th scope=col>&lt;int&gt;</th><th scope=col>&lt;chr&gt;</th><th scope=col>&lt;int&gt;</th><th scope=col>&lt;chr&gt;</th><th scope=col>&lt;int&gt;</th><th scope=col>&lt;chr&gt;</th><th scope=col>&lt;int&gt;</th><th scope=col>&lt;chr&gt;</th><th scope=col>&lt;int&gt;</th><th scope=col>&lt;int&gt;</th><th scope=col>&lt;lgl&gt;</th><th scope=col>&lt;chr&gt;</th><th scope=col>&lt;chr&gt;</th><th scope=col>&lt;chr&gt;</th><th scope=col>&lt;chr&gt;</th><th scope=col>&lt;int&gt;</th><th scope=col>&lt;int&gt;</th></tr>\n",
       "</thead>\n",
       "<tbody>\n",
       "\t<tr><td>290415012</td><td>2009-04-16T02:30Z</td><td>2009</td><td>Final   </td><td>12</td><td>LA Clippers           </td><td>25</td><td>Oklahoma City Thunder</td><td> 85</td><td>126</td><td>FALSE</td><td>FA0028</td><td>f1f2f3</td><td>1C3F2C</td><td>f05133</td><td>290415012</td><td>-41</td></tr>\n",
       "\t<tr><td>290415021</td><td>2009-04-16T02:30Z</td><td>2009</td><td>Final   </td><td>21</td><td>Phoenix Suns          </td><td> 9</td><td>Golden State Warriors</td><td>117</td><td>113</td><td> TRUE</td><td>23006A</td><td>f1f2f3</td><td>00275D</td><td>fdb927</td><td>290415021</td><td>  4</td></tr>\n",
       "\t<tr><td>290415022</td><td>2009-04-16T02:30Z</td><td>2009</td><td>Final   </td><td>22</td><td>Portland Trail Blazers</td><td> 7</td><td>Denver Nuggets       </td><td>104</td><td> 76</td><td> TRUE</td><td>000000</td><td>bac3c9</td><td>0860A8</td><td>fdb927</td><td>290415022</td><td> 28</td></tr>\n",
       "\t<tr><td>290415002</td><td>2009-04-16T00:00Z</td><td>2009</td><td>Final   </td><td> 2</td><td>Boston Celtics        </td><td>27</td><td>Washington Wizards   </td><td>115</td><td>107</td><td> TRUE</td><td>006532</td><td>f1f2f3</td><td>0E3764</td><td>e31837</td><td>290415002</td><td>  8</td></tr>\n",
       "\t<tr><td>290415004</td><td>2009-04-16T00:00Z</td><td>2009</td><td>Final   </td><td> 4</td><td>Chicago Bulls         </td><td>28</td><td>Toronto Raptors      </td><td> 98</td><td>109</td><td>FALSE</td><td>000000</td><td>000000</td><td>CE0F41</td><td>061922</td><td>290415004</td><td>-11</td></tr>\n",
       "\t<tr><td>290415005</td><td>2009-04-16T00:00Z</td><td>2009</td><td>Final/OT</td><td> 5</td><td>Cleveland Cavaliers   </td><td>20</td><td>Philadelphia 76ers   </td><td>110</td><td>111</td><td>FALSE</td><td>061642</td><td>fdbb30</td><td>000000</td><td>f1f2f3</td><td>290415005</td><td> -1</td></tr>\n",
       "</tbody>\n",
       "</table>\n"
      ],
      "text/latex": [
       "A hoopR\\_data: 6 × 17\n",
       "\\begin{tabular}{lllllllllllllllll}\n",
       " game\\_id & date & season & status\\_type\\_detail & home\\_id & home\\_display\\_name & away\\_id & away\\_display\\_name & home\\_score & away\\_score & home\\_winner & home\\_color & home\\_alternate\\_color & away\\_color & away\\_alternate\\_color & id & home\\_margin\\\\\n",
       " <int> & <chr> & <int> & <chr> & <int> & <chr> & <int> & <chr> & <int> & <int> & <lgl> & <chr> & <chr> & <chr> & <chr> & <int> & <int>\\\\\n",
       "\\hline\n",
       "\t 290415012 & 2009-04-16T02:30Z & 2009 & Final    & 12 & LA Clippers            & 25 & Oklahoma City Thunder &  85 & 126 & FALSE & FA0028 & f1f2f3 & 1C3F2C & f05133 & 290415012 & -41\\\\\n",
       "\t 290415021 & 2009-04-16T02:30Z & 2009 & Final    & 21 & Phoenix Suns           &  9 & Golden State Warriors & 117 & 113 &  TRUE & 23006A & f1f2f3 & 00275D & fdb927 & 290415021 &   4\\\\\n",
       "\t 290415022 & 2009-04-16T02:30Z & 2009 & Final    & 22 & Portland Trail Blazers &  7 & Denver Nuggets        & 104 &  76 &  TRUE & 000000 & bac3c9 & 0860A8 & fdb927 & 290415022 &  28\\\\\n",
       "\t 290415002 & 2009-04-16T00:00Z & 2009 & Final    &  2 & Boston Celtics         & 27 & Washington Wizards    & 115 & 107 &  TRUE & 006532 & f1f2f3 & 0E3764 & e31837 & 290415002 &   8\\\\\n",
       "\t 290415004 & 2009-04-16T00:00Z & 2009 & Final    &  4 & Chicago Bulls          & 28 & Toronto Raptors       &  98 & 109 & FALSE & 000000 & 000000 & CE0F41 & 061922 & 290415004 & -11\\\\\n",
       "\t 290415005 & 2009-04-16T00:00Z & 2009 & Final/OT &  5 & Cleveland Cavaliers    & 20 & Philadelphia 76ers    & 110 & 111 & FALSE & 061642 & fdbb30 & 000000 & f1f2f3 & 290415005 &  -1\\\\\n",
       "\\end{tabular}\n"
      ],
      "text/markdown": [
       "\n",
       "A hoopR_data: 6 × 17\n",
       "\n",
       "| game_id &lt;int&gt; | date &lt;chr&gt; | season &lt;int&gt; | status_type_detail &lt;chr&gt; | home_id &lt;int&gt; | home_display_name &lt;chr&gt; | away_id &lt;int&gt; | away_display_name &lt;chr&gt; | home_score &lt;int&gt; | away_score &lt;int&gt; | home_winner &lt;lgl&gt; | home_color &lt;chr&gt; | home_alternate_color &lt;chr&gt; | away_color &lt;chr&gt; | away_alternate_color &lt;chr&gt; | id &lt;int&gt; | home_margin &lt;int&gt; |\n",
       "|---|---|---|---|---|---|---|---|---|---|---|---|---|---|---|---|---|\n",
       "| 290415012 | 2009-04-16T02:30Z | 2009 | Final    | 12 | LA Clippers            | 25 | Oklahoma City Thunder |  85 | 126 | FALSE | FA0028 | f1f2f3 | 1C3F2C | f05133 | 290415012 | -41 |\n",
       "| 290415021 | 2009-04-16T02:30Z | 2009 | Final    | 21 | Phoenix Suns           |  9 | Golden State Warriors | 117 | 113 |  TRUE | 23006A | f1f2f3 | 00275D | fdb927 | 290415021 |   4 |\n",
       "| 290415022 | 2009-04-16T02:30Z | 2009 | Final    | 22 | Portland Trail Blazers |  7 | Denver Nuggets        | 104 |  76 |  TRUE | 000000 | bac3c9 | 0860A8 | fdb927 | 290415022 |  28 |\n",
       "| 290415002 | 2009-04-16T00:00Z | 2009 | Final    |  2 | Boston Celtics         | 27 | Washington Wizards    | 115 | 107 |  TRUE | 006532 | f1f2f3 | 0E3764 | e31837 | 290415002 |   8 |\n",
       "| 290415004 | 2009-04-16T00:00Z | 2009 | Final    |  4 | Chicago Bulls          | 28 | Toronto Raptors       |  98 | 109 | FALSE | 000000 | 000000 | CE0F41 | 061922 | 290415004 | -11 |\n",
       "| 290415005 | 2009-04-16T00:00Z | 2009 | Final/OT |  5 | Cleveland Cavaliers    | 20 | Philadelphia 76ers    | 110 | 111 | FALSE | 061642 | fdbb30 | 000000 | f1f2f3 | 290415005 |  -1 |\n",
       "\n"
      ],
      "text/plain": [
       "  game_id   date              season status_type_detail home_id\n",
       "1 290415012 2009-04-16T02:30Z 2009   Final              12     \n",
       "2 290415021 2009-04-16T02:30Z 2009   Final              21     \n",
       "3 290415022 2009-04-16T02:30Z 2009   Final              22     \n",
       "4 290415002 2009-04-16T00:00Z 2009   Final               2     \n",
       "5 290415004 2009-04-16T00:00Z 2009   Final               4     \n",
       "6 290415005 2009-04-16T00:00Z 2009   Final/OT            5     \n",
       "  home_display_name      away_id away_display_name     home_score away_score\n",
       "1 LA Clippers            25      Oklahoma City Thunder  85        126       \n",
       "2 Phoenix Suns            9      Golden State Warriors 117        113       \n",
       "3 Portland Trail Blazers  7      Denver Nuggets        104         76       \n",
       "4 Boston Celtics         27      Washington Wizards    115        107       \n",
       "5 Chicago Bulls          28      Toronto Raptors        98        109       \n",
       "6 Cleveland Cavaliers    20      Philadelphia 76ers    110        111       \n",
       "  home_winner home_color home_alternate_color away_color away_alternate_color\n",
       "1 FALSE       FA0028     f1f2f3               1C3F2C     f05133              \n",
       "2  TRUE       23006A     f1f2f3               00275D     fdb927              \n",
       "3  TRUE       000000     bac3c9               0860A8     fdb927              \n",
       "4  TRUE       006532     f1f2f3               0E3764     e31837              \n",
       "5 FALSE       000000     000000               CE0F41     061922              \n",
       "6 FALSE       061642     fdbb30               000000     f1f2f3              \n",
       "  id        home_margin\n",
       "1 290415012 -41        \n",
       "2 290415021   4        \n",
       "3 290415022  28        \n",
       "4 290415002   8        \n",
       "5 290415004 -11        \n",
       "6 290415005  -1        "
      ]
     },
     "metadata": {},
     "output_type": "display_data"
    }
   ],
   "source": [
    "# Filter for only regular season games that have concluded, select relevant variables (for all analysis)\n",
    "# Calculate Home team margin of victory for each game \n",
    "seasons_clean <- seasons %>%\n",
    "  filter(type_abbreviation == \"STD\", status_type_detail == \"Final\" |\n",
    "           status_type_detail == \"Final/OT\" ) %>%\n",
    "  select(game_id, date, season, status_type_detail,home_id, home_display_name,away_id, away_display_name,\n",
    "         home_score, away_score, home_winner, home_color, home_alternate_color,\n",
    "         away_color, away_alternate_color, id) %>%\n",
    "  mutate(home_margin = home_score - away_score)\n",
    "head(seasons_clean)"
   ]
  },
  {
   "cell_type": "markdown",
   "id": "33def712-20b5-4846-a3fd-c29c9de84d3e",
   "metadata": {},
   "source": [
    "**Table 1** First 6 rows of data from hoopR for seasons from 2009 to 2022."
   ]
  },
  {
   "cell_type": "code",
   "execution_count": 5,
   "id": "ad298e4b-75f7-4ce9-bb26-f7212c7e82ee",
   "metadata": {
    "tags": [],
    "vscode": {
     "languageId": "r"
    }
   },
   "outputs": [],
   "source": [
    "set.seed(201)\n",
    "# Pull a random sample of 82 games from the data set, without replacement\n",
    "sample <- seasons_clean %>%\n",
    "  rep_sample_n(reps = 1, size = 82, replace = FALSE)"
   ]
  },
  {
   "cell_type": "code",
   "execution_count": 6,
   "id": "db16ff6c-2095-44da-a9ac-82508c4d3fe6",
   "metadata": {
    "tags": [],
    "vscode": {
     "languageId": "r"
    }
   },
   "outputs": [
    {
     "data": {
      "image/png": "[encoded data removed]",
      "text/plain": [
       "plot without title"
      ]
     },
     "metadata": {
      "image/png": {
       "height": 420,
       "width": 420
      }
     },
     "output_type": "display_data"
    }
   ],
   "source": [
    "# Plotting the sample \n",
    "sample_dist <- sample %>%\n",
    "    ggplot(aes(x = home_margin)) +\n",
    "    geom_histogram(binwidth = 7, color = \"white\") + \n",
    "    xlab(\"Difference between home and away team score\") +\n",
    "    ggtitle(\"Figure 1: Sample distribution of 82 games from the data set \") + \n",
    "    theme(text = element_text(size = 12))\n",
    "\n",
    "sample_dist"
   ]
  },
  {
   "cell_type": "markdown",
   "id": "eb3fcefe-3e10-4e54-ba08-12beb2608101",
   "metadata": {},
   "source": [
    "We can see that the sample distribution in figure 1 is unimodal and is roughly bell shaped."
   ]
  },
  {
   "cell_type": "code",
   "execution_count": 7,
   "id": "67939b66-7678-4394-86a1-82a8c1805cb0",
   "metadata": {
    "tags": [],
    "vscode": {
     "languageId": "r"
    }
   },
   "outputs": [
    {
     "data": {
      "text/html": [
       "3.09756097560976"
      ],
      "text/latex": [
       "3.09756097560976"
      ],
      "text/markdown": [
       "3.09756097560976"
      ],
      "text/plain": [
       "[1] 3.097561"
      ]
     },
     "metadata": {},
     "output_type": "display_data"
    }
   ],
   "source": [
    "# Calculate mean test statistic for the one sample\n",
    "sample_mean <- summarize(sample, mean_home_margin = mean(home_margin)) %>%\n",
    "    pull()\n",
    "sample_mean"
   ]
  },
  {
   "cell_type": "markdown",
   "id": "58e0ef74-a4b6-45d9-b395-7d3220848ccd",
   "metadata": {},
   "source": [
    "Let's plot that on top of the sample distribution."
   ]
  },
  {
   "cell_type": "code",
   "execution_count": 8,
   "id": "54d89b8d-0ef0-473f-8c31-9e90cc971c48",
   "metadata": {
    "tags": []
   },
   "outputs": [
    {
     "name": "stderr",
     "output_type": "stream",
     "text": [
      "Warning message:\n",
      "“\u001b[1m\u001b[22mUsing `size` aesthetic for lines was deprecated in ggplot2 3.4.0.\n",
      "\u001b[36mℹ\u001b[39m Please use `linewidth` instead.”\n"
     ]
    },
    {
     "data": {
      "image/png": "[encoded data removed]",
      "text/plain": [
       "plot without title"
      ]
     },
     "metadata": {
      "image/png": {
       "height": 420,
       "width": 420
      }
     },
     "output_type": "display_data"
    }
   ],
   "source": [
    "# Plot the sample with mean projected\n",
    "sample_dist_with_mean <- sample %>%\n",
    "    ggplot(aes(x = home_margin)) +\n",
    "    geom_histogram(binwidth = 7, color = \"white\") + \n",
    "    xlab(\"Difference between home and away team score\") +\n",
    "    ggtitle(\"Figure 2: Sample distribution with sample mean plotted\") + \n",
    "    geom_vline(xintercept = sample_mean, colour=\"red\", size = 1) +\n",
    "    theme(text = element_text(size = 12))\n",
    "\n",
    "sample_dist_with_mean"
   ]
  },
  {
   "cell_type": "markdown",
   "id": "9011fbf2-688b-4e94-bee6-41d56dd69b17",
   "metadata": {},
   "source": [
    "Now we create our bootstrap distribution with the infer package."
   ]
  },
  {
   "cell_type": "code",
   "execution_count": 9,
   "id": "bb4f3fa1-70f8-4130-be9c-81bfff868cd2",
   "metadata": {
    "tags": []
   },
   "outputs": [
    {
     "data": {
      "text/html": [
       "<table class=\"dataframe\">\n",
       "<caption>A infer: 6 × 2</caption>\n",
       "<thead>\n",
       "\t<tr><th scope=col>replicate</th><th scope=col>stat</th></tr>\n",
       "\t<tr><th scope=col>&lt;int&gt;</th><th scope=col>&lt;dbl&gt;</th></tr>\n",
       "</thead>\n",
       "<tbody>\n",
       "\t<tr><td>1</td><td> 1.98780488</td></tr>\n",
       "\t<tr><td>2</td><td> 2.54878049</td></tr>\n",
       "\t<tr><td>3</td><td>-2.17073171</td></tr>\n",
       "\t<tr><td>4</td><td> 1.17073171</td></tr>\n",
       "\t<tr><td>5</td><td>-0.06097561</td></tr>\n",
       "\t<tr><td>6</td><td> 0.40243902</td></tr>\n",
       "</tbody>\n",
       "</table>\n"
      ],
      "text/latex": [
       "A infer: 6 × 2\n",
       "\\begin{tabular}{ll}\n",
       " replicate & stat\\\\\n",
       " <int> & <dbl>\\\\\n",
       "\\hline\n",
       "\t 1 &  1.98780488\\\\\n",
       "\t 2 &  2.54878049\\\\\n",
       "\t 3 & -2.17073171\\\\\n",
       "\t 4 &  1.17073171\\\\\n",
       "\t 5 & -0.06097561\\\\\n",
       "\t 6 &  0.40243902\\\\\n",
       "\\end{tabular}\n"
      ],
      "text/markdown": [
       "\n",
       "A infer: 6 × 2\n",
       "\n",
       "| replicate &lt;int&gt; | stat &lt;dbl&gt; |\n",
       "|---|---|\n",
       "| 1 |  1.98780488 |\n",
       "| 2 |  2.54878049 |\n",
       "| 3 | -2.17073171 |\n",
       "| 4 |  1.17073171 |\n",
       "| 5 | -0.06097561 |\n",
       "| 6 |  0.40243902 |\n",
       "\n"
      ],
      "text/plain": [
       "  replicate stat       \n",
       "1 1          1.98780488\n",
       "2 2          2.54878049\n",
       "3 3         -2.17073171\n",
       "4 4          1.17073171\n",
       "5 5         -0.06097561\n",
       "6 6          0.40243902"
      ]
     },
     "metadata": {},
     "output_type": "display_data"
    }
   ],
   "source": [
    "set.seed(1)\n",
    "# Create a boostrap null distribution with 1000 reps [[NOTE: change this number?]]\n",
    "null_dist <- sample %>%\n",
    "    specify(response = home_margin) %>%\n",
    "    hypothesise(null = \"point\", mu = 0) %>%\n",
    "    generate(type = \"bootstrap\", reps = 10000) %>%\n",
    "    calculate(stat = \"mean\")\n",
    "\n",
    "head(null_dist)"
   ]
  },
  {
   "cell_type": "markdown",
   "id": "2b2416f7-4106-431e-bee8-c9472c938a41",
   "metadata": {},
   "source": [
    "**Table 2:** First 6 rows of bootstrap distribution with calculated stat."
   ]
  },
  {
   "cell_type": "code",
   "execution_count": 10,
   "id": "3d0add32-a3ac-4d83-9252-d0dabcc77b80",
   "metadata": {
    "tags": []
   },
   "outputs": [
    {
     "data": {
      "image/png": "[encoded data removed]",
      "text/plain": [
       "plot without title"
      ]
     },
     "metadata": {
      "image/png": {
       "height": 420,
       "width": 420
      }
     },
     "output_type": "display_data"
    }
   ],
   "source": [
    "# Visualize null model with p value plotted\n",
    "null_dist_plot <- null_dist %>%\n",
    "    visualize() +\n",
    "    shade_p_value(obs_stat = sample_mean, direction = \"right\") +\n",
    "    xlab(\"Difference between home and away team score\") +\n",
    "    ggtitle(\"Figure 2: Bootstrap-based null distribution\")\n",
    "\n",
    "null_dist_plot"
   ]
  },
  {
   "cell_type": "code",
   "execution_count": 11,
   "id": "baa8eb7a-e2dd-4d54-904a-48482c0babdc",
   "metadata": {
    "tags": []
   },
   "outputs": [
    {
     "data": {
      "text/html": [
       "0.0127"
      ],
      "text/latex": [
       "0.0127"
      ],
      "text/markdown": [
       "0.0127"
      ],
      "text/plain": [
       "[1] 0.0127"
      ]
     },
     "metadata": {},
     "output_type": "display_data"
    }
   ],
   "source": [
    "# Obtain p value\n",
    "\n",
    "p_value <- mean(null_dist$stat > sample_mean)\n",
    "\n",
    "p_value"
   ]
  },
  {
   "cell_type": "markdown",
   "id": "94cb62dd-912c-438e-ac6c-4e0f66a4a278",
   "metadata": {},
   "source": [
    "We have obtained a p-value of 0.0127."
   ]
  },
  {
   "cell_type": "markdown",
   "id": "0b5f2f2c-e377-44e4-8747-406298dafb10",
   "metadata": {},
   "source": [
    "# Discussion\n",
    "\n",
    "Based on our significance level of 5% (0.05), we should reject our null hypothesis. This means that based on this test, for the home team in basketball, there is a statistically significant advantage for that team.\n",
    "\n",
    "This is what we should expect given the information provided by Belhumeur, 2017. Anecdotally, winning 60.6% of games is a very significant and noticeable advantage and our statistical results reflect this conclusion.\n",
    "\n",
    "### Limitations\n",
    "\n",
    "Our test does have some limitations however. It is rather simplistic and does not account for any other parameters that can determine how well teams are playing such as field goal percentage, or defensive rating. Additionally, as it is a inferential hypothesis test with a p-value, there is still a very small, approximately 1%, but real chance it could be wrong. However, this is so low that it is likely not a major factor. This test also only compares NBA games and does not look at basketball games outside of the NBA, where home team advantage may be very different due to outside circumstances.\n",
    "\n",
    "There are a few questions this study naturally leads to. Based on our limitations, one question would be to see if this holds outside of the NBA, or are there significant differences. This may be difficult as the datasets outside of the major leagues are much more sparse, or non-existent. Another question that arises from this study is how does this compare in other sports. We worked with basketball as that is what our team is familiar with, but it's natural to say that other sports may have this same correlation. This would be much easier to test as datasets would likely exist for the major leagues of other sports.\n"
   ]
  },
  {
   "cell_type": "markdown",
   "id": "d17c7de8-8c65-47e7-bb6f-5eb93c569370",
   "metadata": {},
   "source": [
    "# References\n",
    "Belhumeur, K. (2017, October 3). How important is home-court advantage in the NBA? Bleacher Report. \n",
    "    Retrieved March 18, 2023, from https://bleacherreport.com/articles/1520496-how-important-is-home-court-advantage-in-the-nba \n",
    "    \n",
    "Green, J. (2023, February 16). How do the NBA playoffs work? NBA playoffs explained - betway. Betway Insider. \n",
    "    Retrieved March 18, 2023, from https://blog.betway.com/basketball/how-do-the-nba-playoffs-work-nba-playoffs-explained/ \n",
    "\n",
    "Kotecki, J. (2014, May). Estimating the effect of home court advantage on wins in the NBA. The Park Place Economist. \n",
    "    Retrieved April 12, 2023, from https://digitalcommons.iwu.edu/cgi/viewcontent.cgi?httpsredir=1&amp;article=1412&amp;context=parkplace \n"
   ]
  },
  {
   "cell_type": "code",
   "execution_count": null,
   "id": "c68fa2ad-6453-4091-b683-06b8e6d887c6",
   "metadata": {},
   "outputs": [],
   "source": []
  }
 ],
 "metadata": {
  "kernelspec": {
   "display_name": "R",
   "language": "R",
   "name": "ir"
  },
  "language_info": {
   "codemirror_mode": "r",
   "file_extension": ".r",
   "mimetype": "text/x-r-source",
   "name": "R",
   "pygments_lexer": "r",
   "version": "4.2.3"
  }
 },
 "nbformat": 4,
 "nbformat_minor": 5
}
